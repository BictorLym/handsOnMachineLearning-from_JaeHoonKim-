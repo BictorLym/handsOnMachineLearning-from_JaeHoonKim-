{
 "cells": [
  {
   "cell_type": "code",
   "execution_count": 2,
   "id": "0ae45ddf",
   "metadata": {},
   "outputs": [],
   "source": [
    "import sys\n",
    "import sklearn\n",
    "import numpy as np\n",
    "import os\n",
    "\n",
    "from mlxtend.data import loadlocal_mnist\n",
    "from sklearn.svm import LinearSVC, SVC\n",
    "from sklearn.svm import LinearSVR, SVR\n",
    "from sklearn import datasets\n",
    "from sklearn.pipeline import Pipeline\n",
    "from sklearn.preprocessing import StandardScaler, MinMaxScaler\n",
    "from sklearn.preprocessing import PolynomialFeatures\n",
    "from sklearn.datasets import make_moons\n",
    "from sklearn.metrics import precision_score, recall_score, f1_score\n",
    "\n",
    "import warnings\n",
    "warnings.filterwarnings(\"ignore\")\n",
    "\n",
    "# Where to save the figures\n",
    "PROJECT_ROOT_DIR = \".\"\n",
    "MNIST_PATH = PROJECT_ROOT_DIR + \"/datasets/mnist/\"\n",
    "\n",
    "\n"
   ]
  },
  {
   "cell_type": "code",
   "execution_count": 3,
   "id": "2e80a183",
   "metadata": {},
   "outputs": [],
   "source": [
    "def get_setosa_or_versicolor(iris):\n",
    "    X = iris[\"data\"]  # petal length, petal width\n",
    "    y = iris[\"target\"]\n",
    "\n",
    "    setosa_or_versicolor = (y == 0) | (y == 1)\n",
    "    print(setosa_or_versicolor)\n",
    "    return X[setosa_or_versicolor], y[setosa_or_versicolor]\n",
    "\n",
    "def get_virginica(iris):\n",
    "    X = iris[\"data\"][:, (2, 3)]  # petal length, petal width\n",
    "    y = (iris[\"target\"] == 2).astype(np.float64)  # Iris virginica\n",
    "    return X, y\n",
    "\n",
    "def performance(y_test, y_test_pred, average='binary'):\n",
    "    precision = precision_score(y_test, y_test_pred, average=average)\n",
    "    recall = recall_score(y_test, y_test_pred, average=average)\n",
    "    f1 = f1_score(y_test, y_test_pred, average=average)\n",
    "    return precision, recall, f1  \n",
    "\n",
    "def load_mnist(path=MNIST_PATH):\n",
    "    X_train, y_train = loadlocal_mnist(\n",
    "            images_path= MNIST_PATH+'train-images.idx3-ubyte', \n",
    "            labels_path= MNIST_PATH+'train-labels.idx1-ubyte')\n",
    "    X_test, y_test = loadlocal_mnist(\n",
    "            images_path= MNIST_PATH+'t10k-images.idx3-ubyte', \n",
    "            labels_path= MNIST_PATH+'t10k-labels.idx1-ubyte')\n",
    "    return X_train, X_test, y_train, y_test\n",
    "\n",
    "def transform(dataset):\n",
    "    pipeline = Pipeline([\n",
    "        ('std_scaler',    StandardScaler())\n",
    "    ])\n",
    "\n",
    "    return pipeline.fit_transform(dataset)\n",
    "\n"
   ]
  },
  {
   "cell_type": "code",
   "execution_count": 4,
   "id": "eca84405",
   "metadata": {},
   "outputs": [
    {
     "name": "stdout",
     "output_type": "stream",
     "text": [
      "[ True  True  True  True  True  True  True  True  True  True  True  True\n",
      "  True  True  True  True  True  True  True  True  True  True  True  True\n",
      "  True  True  True  True  True  True  True  True  True  True  True  True\n",
      "  True  True  True  True  True  True  True  True  True  True  True  True\n",
      "  True  True  True  True  True  True  True  True  True  True  True  True\n",
      "  True  True  True  True  True  True  True  True  True  True  True  True\n",
      "  True  True  True  True  True  True  True  True  True  True  True  True\n",
      "  True  True  True  True  True  True  True  True  True  True  True  True\n",
      "  True  True  True  True False False False False False False False False\n",
      " False False False False False False False False False False False False\n",
      " False False False False False False False False False False False False\n",
      " False False False False False False False False False False False False\n",
      " False False False False False False]\n",
      "100\n",
      "[[5.1 3.5 1.4 0.2]\n",
      " [4.9 3.  1.4 0.2]\n",
      " [4.7 3.2 1.3 0.2]\n",
      " [4.6 3.1 1.5 0.2]\n",
      " [5.  3.6 1.4 0.2]\n",
      " [5.4 3.9 1.7 0.4]\n",
      " [4.6 3.4 1.4 0.3]\n",
      " [5.  3.4 1.5 0.2]\n",
      " [4.4 2.9 1.4 0.2]\n",
      " [4.9 3.1 1.5 0.1]\n",
      " [5.4 3.7 1.5 0.2]\n",
      " [4.8 3.4 1.6 0.2]\n",
      " [4.8 3.  1.4 0.1]\n",
      " [4.3 3.  1.1 0.1]\n",
      " [5.8 4.  1.2 0.2]\n",
      " [5.7 4.4 1.5 0.4]\n",
      " [5.4 3.9 1.3 0.4]\n",
      " [5.1 3.5 1.4 0.3]\n",
      " [5.7 3.8 1.7 0.3]\n",
      " [5.1 3.8 1.5 0.3]\n",
      " [5.4 3.4 1.7 0.2]\n",
      " [5.1 3.7 1.5 0.4]\n",
      " [4.6 3.6 1.  0.2]\n",
      " [5.1 3.3 1.7 0.5]\n",
      " [4.8 3.4 1.9 0.2]\n",
      " [5.  3.  1.6 0.2]\n",
      " [5.  3.4 1.6 0.4]\n",
      " [5.2 3.5 1.5 0.2]\n",
      " [5.2 3.4 1.4 0.2]\n",
      " [4.7 3.2 1.6 0.2]\n",
      " [4.8 3.1 1.6 0.2]\n",
      " [5.4 3.4 1.5 0.4]\n",
      " [5.2 4.1 1.5 0.1]\n",
      " [5.5 4.2 1.4 0.2]\n",
      " [4.9 3.1 1.5 0.2]\n",
      " [5.  3.2 1.2 0.2]\n",
      " [5.5 3.5 1.3 0.2]\n",
      " [4.9 3.6 1.4 0.1]\n",
      " [4.4 3.  1.3 0.2]\n",
      " [5.1 3.4 1.5 0.2]\n",
      " [5.  3.5 1.3 0.3]\n",
      " [4.5 2.3 1.3 0.3]\n",
      " [4.4 3.2 1.3 0.2]\n",
      " [5.  3.5 1.6 0.6]\n",
      " [5.1 3.8 1.9 0.4]\n",
      " [4.8 3.  1.4 0.3]\n",
      " [5.1 3.8 1.6 0.2]\n",
      " [4.6 3.2 1.4 0.2]\n",
      " [5.3 3.7 1.5 0.2]\n",
      " [5.  3.3 1.4 0.2]\n",
      " [7.  3.2 4.7 1.4]\n",
      " [6.4 3.2 4.5 1.5]\n",
      " [6.9 3.1 4.9 1.5]\n",
      " [5.5 2.3 4.  1.3]\n",
      " [6.5 2.8 4.6 1.5]\n",
      " [5.7 2.8 4.5 1.3]\n",
      " [6.3 3.3 4.7 1.6]\n",
      " [4.9 2.4 3.3 1. ]\n",
      " [6.6 2.9 4.6 1.3]\n",
      " [5.2 2.7 3.9 1.4]\n",
      " [5.  2.  3.5 1. ]\n",
      " [5.9 3.  4.2 1.5]\n",
      " [6.  2.2 4.  1. ]\n",
      " [6.1 2.9 4.7 1.4]\n",
      " [5.6 2.9 3.6 1.3]\n",
      " [6.7 3.1 4.4 1.4]\n",
      " [5.6 3.  4.5 1.5]\n",
      " [5.8 2.7 4.1 1. ]\n",
      " [6.2 2.2 4.5 1.5]\n",
      " [5.6 2.5 3.9 1.1]\n",
      " [5.9 3.2 4.8 1.8]\n",
      " [6.1 2.8 4.  1.3]\n",
      " [6.3 2.5 4.9 1.5]\n",
      " [6.1 2.8 4.7 1.2]\n",
      " [6.4 2.9 4.3 1.3]\n",
      " [6.6 3.  4.4 1.4]\n",
      " [6.8 2.8 4.8 1.4]\n",
      " [6.7 3.  5.  1.7]\n",
      " [6.  2.9 4.5 1.5]\n",
      " [5.7 2.6 3.5 1. ]\n",
      " [5.5 2.4 3.8 1.1]\n",
      " [5.5 2.4 3.7 1. ]\n",
      " [5.8 2.7 3.9 1.2]\n",
      " [6.  2.7 5.1 1.6]\n",
      " [5.4 3.  4.5 1.5]\n",
      " [6.  3.4 4.5 1.6]\n",
      " [6.7 3.1 4.7 1.5]\n",
      " [6.3 2.3 4.4 1.3]\n",
      " [5.6 3.  4.1 1.3]\n",
      " [5.5 2.5 4.  1.3]\n",
      " [5.5 2.6 4.4 1.2]\n",
      " [6.1 3.  4.6 1.4]\n",
      " [5.8 2.6 4.  1.2]\n",
      " [5.  2.3 3.3 1. ]\n",
      " [5.6 2.7 4.2 1.3]\n",
      " [5.7 3.  4.2 1.2]\n",
      " [5.7 2.9 4.2 1.3]\n",
      " [6.2 2.9 4.3 1.3]\n",
      " [5.1 2.5 3.  1.1]\n",
      " [5.7 2.8 4.1 1.3]]\n",
      "[0 0 0 0 0 0 0 0 0 0 0 0 0 0 0 0 0 0 0 0 0 0 0 0 0 0 0 0 0 0 0 0 0 0 0 0 0\n",
      " 0 0 0 0 0 0 0 0 0 0 0 0 0 1 1 1 1 1 1 1 1 1 1 1 1 1 1 1 1 1 1 1 1 1 1 1 1\n",
      " 1 1 1 1 1 1 1 1 1 1 1 1 1 1 1 1 1 1 1 1 1 1 1 1 1 1]\n"
     ]
    }
   ],
   "source": [
    "#main program\n",
    "if __name__ == '__main__':\n",
    "    # Large margin classification\n",
    "    iris = datasets.load_iris()\n",
    "    \n",
    "    # make training data for binary classifiers\n",
    "    X, y = get_setosa_or_versicolor(iris)\n",
    "    print(len(X))\n",
    "    print(X)\n",
    "    print(y)\n",
    "    \n",
    "    \n"
   ]
  },
  {
   "cell_type": "code",
   "execution_count": 5,
   "id": "39d29ae7",
   "metadata": {
    "scrolled": true
   },
   "outputs": [
    {
     "name": "stdout",
     "output_type": "stream",
     "text": [
      "\n",
      "1.0 1.0 1.0\n",
      "(60000, 784)\n",
      "(10000, 784)\n"
     ]
    }
   ],
   "source": [
    "    print()\n",
    "#     svm_clf = SVC(kernel=\"linear\", C=float(\"inf\"))\n",
    "    svm_clf = SVC(kernel=\"linear\", C=1)\n",
    "    svm_clf.fit(X, y)\n",
    "    y_pred = svm_clf.predict(X)\n",
    "    precision, recall, f1 = performance(y, y_pred, average=\"micro\")\n",
    "    print(precision, recall, f1)\n",
    "##\n",
    "##\n",
    "    #Large margin vs margin violations\n",
    "    #X, y = get_virginica(iris)\n",
    "    X_train, X_test, y_train, y_test = load_mnist(MNIST_PATH)\n",
    "    print(X_train.shape)\n",
    "    print(X_test.shape)\n",
    "    \n",
    "\n"
   ]
  },
  {
   "cell_type": "code",
   "execution_count": 6,
   "id": "fdbf7618",
   "metadata": {},
   "outputs": [
    {
     "name": "stdout",
     "output_type": "stream",
     "text": [
      "\n",
      "training .....\n",
      "Pipeline(steps=[('linear_svc', LinearSVC(C=1, loss='hinge', random_state=42))])\n",
      "0.8561 0.8561 0.8561\n"
     ]
    }
   ],
   "source": [
    "    print()\n",
    "#     # small size\n",
    "    X_train, y_train = X_train[:10000], y_train[:10000]\n",
    "\n",
    "    svm_clf1 = Pipeline([\n",
    "       (\"linear_svc\", LinearSVC(C=1, loss=\"hinge\", random_state=42)),\n",
    "    ])\n",
    "    print(\"training .....\")\n",
    "    print(svm_clf1)\n",
    "    svm_clf1.fit(X_train, y_train)\n",
    "    y_pred = svm_clf1.predict(X_test)\n",
    "    precision, recall, f1 = performance(y_test, y_pred, average=\"micro\")\n",
    "    print(precision, recall, f1)\n"
   ]
  },
  {
   "cell_type": "code",
   "execution_count": 7,
   "id": "9d6d4b34",
   "metadata": {},
   "outputs": [
    {
     "name": "stdout",
     "output_type": "stream",
     "text": [
      "\n",
      "training .....\n",
      "0.8646 0.8646 0.8646\n"
     ]
    }
   ],
   "source": [
    "    print()\n",
    "\n",
    "##\n",
    "    svm_clf2_1 = Pipeline([\n",
    "       (\"scaler\", StandardScaler()),\n",
    "       (\"linear_svc\", LinearSVC(C=1, loss=\"hinge\", random_state=42)),\n",
    "    ])\n",
    "    print(\"training .....\")\n",
    "    svm_clf2_1.fit(X_train, y_train)\n",
    "    y_pred = svm_clf2_1.predict(X_test)\n",
    "    precision, recall, f1 = performance(y_test, y_pred, average=\"micro\")\n",
    "    print(precision, recall, f1)"
   ]
  },
  {
   "cell_type": "code",
   "execution_count": 8,
   "id": "a28140f0",
   "metadata": {},
   "outputs": [
    {
     "name": "stdout",
     "output_type": "stream",
     "text": [
      "\n",
      "training .....\n",
      "0.9002 0.9002 0.9001999999999999\n"
     ]
    }
   ],
   "source": [
    "    print()\n",
    "\n",
    "##\n",
    "    svm_clf2 = Pipeline([\n",
    "       (\"scaler\", MinMaxScaler()),\n",
    "       (\"linear_svc\", LinearSVC(C=1, loss=\"hinge\", random_state=42)),\n",
    "    ])\n",
    "    print(\"training .....\")\n",
    "    svm_clf2.fit(X_train, y_train)\n",
    "    y_pred = svm_clf2.predict(X_test)\n",
    "    precision, recall, f1 = performance(y_test, y_pred, average=\"micro\")\n",
    "    print(precision, recall, f1)\n",
    "\n"
   ]
  },
  {
   "cell_type": "code",
   "execution_count": 9,
   "id": "dcbd2f26",
   "metadata": {},
   "outputs": [
    {
     "name": "stdout",
     "output_type": "stream",
     "text": [
      "\n",
      "training .....\n",
      "0.9091 0.9091 0.9091\n"
     ]
    }
   ],
   "source": [
    "    print()\n",
    "##    # different regularization settings:\n",
    "    svm_clf3 = Pipeline([\n",
    "       (\"scaler\", MinMaxScaler()),\n",
    "       (\"linear_svc\", LinearSVC(C=0.1, loss=\"hinge\", random_state=42)),\n",
    "    ])\n",
    "    print(\"training .....\")\n",
    "    svm_clf3.fit(X_train, y_train)\n",
    "    y_pred = svm_clf3.predict(X_test)\n",
    "    precision, recall, f1 = performance(y_test, y_pred, average=\"micro\")\n",
    "    print(precision, recall, f1)\n",
    "\n"
   ]
  },
  {
   "cell_type": "code",
   "execution_count": 10,
   "id": "55e4b5bf",
   "metadata": {
    "scrolled": true
   },
   "outputs": [],
   "source": [
    "#     print()\n",
    "# ##    # different regularization settings:\n",
    "#     svm_clf3_1 = Pipeline([\n",
    "#        (\"scaler\", MinMaxScaler()),\n",
    "#        (\"linear_svc\", LinearSVC(C=0.1, kernel=\"poly\" ,loss=\"hinge\", random_state=42)),\n",
    "#     ])\n",
    "#     print(\"training .....\")\n",
    "#     svm_clf3_1.fit(X_train, y_train)\n",
    "#     y_pred = svm_clf3.predict(X_test)\n",
    "#     precision, recall, f1 = performance(y_test, y_pred, average=\"micro\")\n",
    "#     print(precision, recall, f1)\n",
    "\n"
   ]
  },
  {
   "cell_type": "code",
   "execution_count": 11,
   "id": "fb80acee",
   "metadata": {},
   "outputs": [],
   "source": [
    "import matplotlib.pyplot as plt\n",
    "import seaborn as sns"
   ]
  },
  {
   "cell_type": "code",
   "execution_count": 12,
   "id": "9545d167",
   "metadata": {},
   "outputs": [],
   "source": [
    "def plot_dataset(X, y, axes):\n",
    "    plt.plot(X[:, 0][y==0], X[:, 1][y==0], \"bs\")\n",
    "    plt.plot(X[:, 0][y==1], X[:, 1][y==1], \"g^\")\n",
    "    plt.axis(axes)\n",
    "    plt.grid(True, which='both')\n",
    "    plt.xlabel(r\"$x_1$\", fontsize=20)\n",
    "    plt.ylabel(r\"$x_2$\", fontsize=20, rotation=0)"
   ]
  },
  {
   "cell_type": "code",
   "execution_count": 13,
   "id": "88ca78cc",
   "metadata": {},
   "outputs": [
    {
     "name": "stdout",
     "output_type": "stream",
     "text": [
      "\n"
     ]
    },
    {
     "data": {
      "image/png": "[encoded data removed]",
      "text/plain": [
       "<Figure size 432x288 with 1 Axes>"
      ]
     },
     "metadata": {
      "needs_background": "light"
     },
     "output_type": "display_data"
    }
   ],
   "source": [
    "    print()\n",
    "    # Non-linear classification\n",
    "    X, y = make_moons(n_samples=100, noise=0.15, random_state=42)\n",
    "#     print(X)\n",
    "#     print(y)\n",
    "    ############################\n",
    "#     fig, ax = plt.sublots(figsize=(14, 8))\n",
    "#     print()\n",
    "#     plt.plot(X[0], X[1], y)\n",
    "#     plt.show()\n",
    "#     print()\n",
    "    plot_dataset(X, y, [-1.5, 2.5, -1, 1.5])\n",
    "    plt.show()\n",
    "    ############################\n"
   ]
  },
  {
   "cell_type": "code",
   "execution_count": 14,
   "id": "892c61bb",
   "metadata": {},
   "outputs": [
    {
     "name": "stdout",
     "output_type": "stream",
     "text": [
      "training .....\n",
      "0.97 0.97 0.97\n"
     ]
    }
   ],
   "source": [
    "    polynomial_svm_clf = Pipeline([\n",
    "       (\"poly_features\", PolynomialFeatures(degree=3)),\n",
    "       (\"scaler\", StandardScaler()),\n",
    "       (\"svm_clf\", LinearSVC(C=10, loss=\"hinge\", random_state=42))\n",
    "    ])\n",
    "    print(\"training .....\")\n",
    "    polynomial_svm_clf.fit(X, y)\n",
    "    y_pred = polynomial_svm_clf.predict(X)\n",
    "    precision, recall, f1 = performance(y, y_pred, average=\"micro\")\n",
    "    print(precision, recall, f1)"
   ]
  },
  {
   "cell_type": "code",
   "execution_count": 15,
   "id": "b64d8deb",
   "metadata": {},
   "outputs": [
    {
     "name": "stdout",
     "output_type": "stream",
     "text": [
      "\n",
      "0.98 0.98 0.98\n"
     ]
    }
   ],
   "source": [
    "    print()\n",
    "    poly_kernel_svm_clf = Pipeline([\n",
    "        (\"scaler\", StandardScaler()),\n",
    "        (\"svm_clf\", SVC(kernel=\"poly\", degree=3, coef0=1, C=5))\n",
    "    ])\n",
    "    poly_kernel_svm_clf.fit(X, y)\n",
    "    y_pred = poly_kernel_svm_clf.predict(X)\n",
    "    precision, recall, f1 = performance(y, y_pred, average=\"micro\")\n",
    "    print(precision, recall, f1)"
   ]
  },
  {
   "cell_type": "code",
   "execution_count": 16,
   "id": "1d803d95",
   "metadata": {},
   "outputs": [
    {
     "data": {
      "text/plain": [
       "Pipeline(steps=[('scaler', MinMaxScaler()),\n",
       "                ('svm_clf', SVC(C=5, coef0=100, degree=10, kernel='poly'))])"
      ]
     },
     "execution_count": 16,
     "metadata": {},
     "output_type": "execute_result"
    }
   ],
   "source": [
    "    poly100_kernel_svm_clf = Pipeline([\n",
    "        (\"scaler\",  MinMaxScaler()),\n",
    "        (\"svm_clf\", SVC(kernel=\"poly\", degree=10, coef0=100, C=5))\n",
    "    ])\n",
    "    poly100_kernel_svm_clf.fit(X, y)"
   ]
  },
  {
   "cell_type": "code",
   "execution_count": 17,
   "id": "02fa93fd",
   "metadata": {},
   "outputs": [
    {
     "name": "stdout",
     "output_type": "stream",
     "text": [
      "\n",
      "1.0 1.0 1.0\n"
     ]
    }
   ],
   "source": [
    "    print()\n",
    "\n",
    "    y_pred = poly100_kernel_svm_clf.predict(X)\n",
    "    precision, recall, f1 = performance(y, y_pred, average=\"micro\")\n",
    "    print(precision, recall, f1)"
   ]
  },
  {
   "cell_type": "code",
   "execution_count": 18,
   "id": "6505af31",
   "metadata": {},
   "outputs": [
    {
     "data": {
      "text/plain": [
       "Pipeline(steps=[('scaler', StandardScaler()),\n",
       "                ('svm_clf', SVC(C=0.001, gamma=5))])"
      ]
     },
     "execution_count": 18,
     "metadata": {},
     "output_type": "execute_result"
    }
   ],
   "source": [
    "    \n",
    "    rbf_kernel_svm_clf = Pipeline([\n",
    "        (\"scaler\", StandardScaler()),\n",
    "        (\"svm_clf\", SVC(kernel=\"rbf\", gamma=5, C=0.001))\n",
    "    ])\n",
    "    rbf_kernel_svm_clf.fit(X, y)"
   ]
  },
  {
   "cell_type": "code",
   "execution_count": 19,
   "id": "6cb98851",
   "metadata": {},
   "outputs": [
    {
     "name": "stdout",
     "output_type": "stream",
     "text": [
      "\n",
      "0.97 0.97 0.97\n"
     ]
    }
   ],
   "source": [
    "    print()\n",
    "\n",
    "    y_pred = rbf_kernel_svm_clf.predict(X)\n",
    "    precision, recall, f1 = performance(y, y_pred, average=\"micro\")\n",
    "    print(precision, recall, f1)"
   ]
  },
  {
   "cell_type": "code",
   "execution_count": 20,
   "id": "7b71f31a",
   "metadata": {},
   "outputs": [],
   "source": [
    "    # Regression\n",
    "    np.random.seed(42)\n",
    "    m = 50\n",
    "    X = 2 * np.random.rand(m, 1)\n",
    "    y = (4 + 3 * X + np.random.randn(m, 1)).ravel()\n",
    "\n",
    "    "
   ]
  },
  {
   "cell_type": "code",
   "execution_count": 21,
   "id": "6eaeca6a",
   "metadata": {},
   "outputs": [],
   "source": [
    "    svm_reg = LinearSVR(epsilon=1.5, random_state=42)\n",
    "    svm_reg.fit(X, y)\n",
    "    y_pred = svm_reg.predict(X)\n",
    "#     precision, recall, f1 = performance(y, y_pred, average=\"micro\")\n",
    "#     print(precision, recall, f1)"
   ]
  },
  {
   "cell_type": "code",
   "execution_count": 22,
   "id": "e26bf049",
   "metadata": {},
   "outputs": [
    {
     "data": {
      "text/plain": [
       "SVR(C=100, degree=2, kernel='poly')"
      ]
     },
     "execution_count": 22,
     "metadata": {},
     "output_type": "execute_result"
    }
   ],
   "source": [
    "    svm_poly_reg1 = SVR(kernel=\"poly\", degree=2, C=100, epsilon=0.1, gamma=\"scale\")\n",
    "    svm_poly_reg1.fit(X, y)\n",
    "    \n",
    "    "
   ]
  },
  {
   "cell_type": "code",
   "execution_count": 23,
   "id": "8f0a706c",
   "metadata": {},
   "outputs": [
    {
     "data": {
      "text/plain": [
       "SVR(C=0.01, degree=2, kernel='poly')"
      ]
     },
     "execution_count": 23,
     "metadata": {},
     "output_type": "execute_result"
    }
   ],
   "source": [
    "    svm_poly_reg2 = SVR(kernel=\"poly\", degree=2, C=0.01, epsilon=0.1, gamma=\"scale\")\n",
    "    svm_poly_reg2.fit(X, y)\n",
    "    \n",
    "    "
   ]
  }
 ],
 "metadata": {
  "kernelspec": {
   "display_name": "Python 3 (ipykernel)",
   "language": "python",
   "name": "python3"
  },
  "language_info": {
   "codemirror_mode": {
    "name": "ipython",
    "version": 3
   },
   "file_extension": ".py",
   "mimetype": "text/x-python",
   "name": "python",
   "nbconvert_exporter": "python",
   "pygments_lexer": "ipython3",
   "version": "3.9.12"
  }
 },
 "nbformat": 4,
 "nbformat_minor": 5
}
