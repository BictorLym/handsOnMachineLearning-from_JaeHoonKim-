{
 "cells": [
  {
   "cell_type": "code",
   "execution_count": 2,
   "id": "74742d5a",
   "metadata": {},
   "outputs": [
    {
     "name": "stdout",
     "output_type": "stream",
     "text": [
      "[1, 1, 2, 3, 6, 8, 10]\n"
     ]
    }
   ],
   "source": [
    "def quicksort(arr):\n",
    "    if len(arr) <=1:\n",
    "        return arr\n",
    "    pivot = arr[len(arr)//2]\n",
    "    left = [x for x in arr if x<pivot]\n",
    "    middle = [x for x in arr if x == pivot]\n",
    "    right = [x for x in arr if x>pivot]\n",
    "    return quicksort(left) + middle + quicksort(right)\n",
    "\n",
    "array = [3,6,8,10,1,2,1]\n",
    "print(quicksort(array))"
   ]
  },
  {
   "cell_type": "code",
   "execution_count": 8,
   "id": "13a6629b",
   "metadata": {},
   "outputs": [
    {
     "name": "stdout",
     "output_type": "stream",
     "text": [
      "<class 'int'>\n",
      "3\n",
      "4\n",
      "2\n",
      "6\n",
      "9\n",
      "4\n",
      "8\n",
      "<class 'float'>\n",
      "2.5 3.5 5.0 6.25\n"
     ]
    }
   ],
   "source": [
    "x = 3\n",
    "print(type(x))\n",
    "print(x)\n",
    "print(x+1)\n",
    "print(x-1)\n",
    "print(x*2)\n",
    "print(x**2)\n",
    "x+=1\n",
    "print(x)\n",
    "x *= 2\n",
    "print(x)\n",
    "y=2.5\n",
    "print(type(y))\n",
    "print(y, y+1, y*2, y**2)"
   ]
  },
  {
   "cell_type": "code",
   "execution_count": 10,
   "id": "6a2ceb94",
   "metadata": {},
   "outputs": [
    {
     "name": "stdout",
     "output_type": "stream",
     "text": [
      "<class 'bool'>\n",
      "False\n",
      "True\n",
      "False\n",
      "True\n"
     ]
    }
   ],
   "source": [
    "t = True\n",
    "f = False\n",
    "print(type(t))\n",
    "print(t and f)\n",
    "print(t or f)\n",
    "print(not t)\n",
    "print(t !=f)"
   ]
  },
  {
   "cell_type": "code",
   "execution_count": 12,
   "id": "91defcad",
   "metadata": {},
   "outputs": [
    {
     "name": "stdout",
     "output_type": "stream",
     "text": [
      "hello\n",
      "5\n",
      "hello world\n",
      "hello world 12\n"
     ]
    }
   ],
   "source": [
    "hello=\"hello\"\n",
    "world='world'\n",
    "print(hello)\n",
    "print(len(hello))\n",
    "hw = hello + ' ' + world\n",
    "print(hw)\n",
    "hw12 = '%s %s %d' %(hello, world, 12)\n",
    "print(hw12)"
   ]
  },
  {
   "cell_type": "code",
   "execution_count": 26,
   "id": "b7b4a87c",
   "metadata": {},
   "outputs": [
    {
     "name": "stdout",
     "output_type": "stream",
     "text": [
      "Hello\n",
      "HELLO\n",
      "hello\n",
      "hello\n",
      "  hello\n",
      " hello \n",
      "hello  \n",
      "he(changed)(changed)o\n",
      "world\n",
      "(changed)aker's (changed)ark\n"
     ]
    }
   ],
   "source": [
    "s = \"hello\"\n",
    "print(s.capitalize())\n",
    "print(s.upper())\n",
    "print(s)\n",
    "print(s.lower())\n",
    "print(s.rjust(7))\n",
    "print(s.center(7))\n",
    "print(s.ljust(7))\n",
    "print(s.replace('l', '(changed)'))\n",
    "print('   world'.strip())\n",
    "s1 = \"maker's mark\"\n",
    "s1 = s1.replace('m', '(changed)')\n",
    "print(s1)"
   ]
  },
  {
   "cell_type": "code",
   "execution_count": 36,
   "id": "4657fc0b",
   "metadata": {},
   "outputs": [
    {
     "name": "stdout",
     "output_type": "stream",
     "text": [
      "[0, 1, 2, 3, 4]\n",
      "[2, 3]\n",
      "[2, 3, 4]\n",
      "[0, 1]\n",
      "[0, 1, 2, 3, 4]\n",
      "[0, 1, 2, 3]\n",
      "4\n",
      "[0, 1, 8, 9, 4]\n",
      "[0, 1, 8, 9]\n"
     ]
    }
   ],
   "source": [
    "nums = list(range(5))\n",
    "print(nums)\n",
    "print(nums[2:4])\n",
    "print(nums[2:])\n",
    "print(nums[:2])\n",
    "print(nums[:])\n",
    "print(nums[:-1])\n",
    "print(nums[-1])\n",
    "nums[2:4] = [8, 9]\n",
    "print(nums)\n",
    "print(nums[:-1])"
   ]
  },
  {
   "cell_type": "code",
   "execution_count": 39,
   "id": "55d5ff37",
   "metadata": {},
   "outputs": [
    {
     "name": "stdout",
     "output_type": "stream",
     "text": [
      "cat\n",
      "dog\n",
      "monkey\n"
     ]
    }
   ],
   "source": [
    "animals = ['cat', 'dog', 'monkey']\n",
    "for animal in animals:\n",
    "    print(animal)"
   ]
  },
  {
   "cell_type": "code",
   "execution_count": 41,
   "id": "14ddde50",
   "metadata": {},
   "outputs": [
    {
     "name": "stdout",
     "output_type": "stream",
     "text": [
      "#1번째: cat\n",
      "#2번째: dog\n",
      "#3번째: monkey\n"
     ]
    }
   ],
   "source": [
    "animals = ['cat', 'dog', 'monkey']\n",
    "for idx, animal in enumerate(animals):\n",
    "    print('#%d번째: %s' %(idx+1, animal))"
   ]
  },
  {
   "cell_type": "code",
   "execution_count": 48,
   "id": "c5126eeb",
   "metadata": {},
   "outputs": [
    {
     "name": "stdout",
     "output_type": "stream",
     "text": [
      "0번째 배열은 10입니다.\n",
      "1번째 배열은 11입니다.\n",
      "2번째 배열은 12입니다.\n",
      "3번째 배열은 13입니다.\n",
      "4번째 배열은 14입니다.\n",
      "5번째 배열은 15입니다.\n",
      "6번째 배열은 16입니다.\n",
      "7번째 배열은 17입니다.\n",
      "8번째 배열은 18입니다.\n",
      "9번째 배열은 19입니다.\n"
     ]
    }
   ],
   "source": [
    "arr = list(range(10))\n",
    "for i in arr:\n",
    "    arr[i] +=10\n",
    "\n",
    "for i, num in enumerate(arr):\n",
    "    print(f\"{i}번째 배열은 {num}입니다.\")\n"
   ]
  },
  {
   "cell_type": "code",
   "execution_count": 51,
   "id": "954c79c0",
   "metadata": {},
   "outputs": [
    {
     "name": "stdout",
     "output_type": "stream",
     "text": [
      "0행 0열: [[1 2 3]\n",
      " [4 5 6]]\n",
      "0행 1열: [[1 2 3]\n",
      " [4 5 6]]\n",
      "0행 2열: [[1 2 3]\n",
      " [4 5 6]]\n",
      "1행 0열: [[1 2 3]\n",
      " [4 5 6]]\n",
      "1행 1열: [[1 2 3]\n",
      " [4 5 6]]\n",
      "1행 2열: [[1 2 3]\n",
      " [4 5 6]]\n"
     ]
    }
   ],
   "source": [
    "import numpy as np\n",
    "a = [[1,2,3], [4,5,6]]\n",
    "matrix = np.array(a)\n",
    "for r, row in enumerate(matrix):\n",
    "    for c, letter in enumerate(row):\n",
    "        print(f\"{r}행 {c}열: {matrix}\");"
   ]
  },
  {
   "cell_type": "code",
   "execution_count": 59,
   "id": "c015867f",
   "metadata": {},
   "outputs": [
    {
     "name": "stdout",
     "output_type": "stream",
     "text": [
      "0 0 A\n",
      "0 1 B\n",
      "0 2 C\n",
      "1 0 D\n",
      "1 1 E\n",
      "1 2 F\n",
      "2 0 G\n",
      "2 1 H\n",
      "2 2 I\n"
     ]
    }
   ],
   "source": [
    "matrix1 = [['A', 'B', 'C'], ['D', 'E', 'F'], ['G', 'H', 'I']]\n",
    "for i in range(len(matrix1)):\n",
    "    for j in range(len(matrix1[i])):\n",
    "        print(i, j, matrix1[i][j])"
   ]
  },
  {
   "cell_type": "code",
   "execution_count": 66,
   "id": "95254047",
   "metadata": {},
   "outputs": [
    {
     "name": "stdout",
     "output_type": "stream",
     "text": [
      "0번째 행, 0번쨰 열: A\n",
      "0번째 행, 1번쨰 열: B\n",
      "0번째 행, 2번쨰 열: C\n",
      "1번째 행, 0번쨰 열: D\n",
      "1번째 행, 1번쨰 열: E\n",
      "1번째 행, 2번쨰 열: F\n",
      "2번째 행, 0번쨰 열: G\n",
      "2번째 행, 1번쨰 열: H\n",
      "2번째 행, 2번쨰 열: I\n"
     ]
    }
   ],
   "source": [
    "for i, row in enumerate(matrix1):\n",
    "    for j, letter in enumerate(row):\n",
    "        print(f\"{i}번째 행, {j}번쨰 열: {letter}\")"
   ]
  },
  {
   "cell_type": "code",
   "execution_count": 67,
   "id": "ebae6d97",
   "metadata": {},
   "outputs": [
    {
     "name": "stdout",
     "output_type": "stream",
     "text": [
      "[0, 1, 4, 9, 16]\n"
     ]
    }
   ],
   "source": [
    "nums = [0, 1, 2, 3, 4]\n",
    "squares = []\n",
    "for x in nums:\n",
    "    squares.append(x**2)\n",
    "print(squares)"
   ]
  },
  {
   "cell_type": "code",
   "execution_count": 71,
   "id": "18604e89",
   "metadata": {},
   "outputs": [
    {
     "name": "stdout",
     "output_type": "stream",
     "text": [
      "[0, 4, 16]\n"
     ]
    }
   ],
   "source": [
    "nums = [0,1,2,3,4]\n",
    "even_squares = []\n",
    "even_squares = [((x**2)) for x in nums if x%2==0]\n",
    "print(even_squares)"
   ]
  },
  {
   "cell_type": "code",
   "execution_count": 84,
   "id": "879587ba",
   "metadata": {},
   "outputs": [
    {
     "name": "stdout",
     "output_type": "stream",
     "text": [
      "cute\n",
      "True\n",
      "wet\n",
      "N/A\n",
      "wet\n",
      "N/A\n"
     ]
    }
   ],
   "source": [
    "d = {'cat':'cute', 'dog':'furry'}\n",
    "print(d['cat'])\n",
    "print('cat' in d)\n",
    "d['fish'] = 'wet'\n",
    "print(d['fish'])\n",
    "\n",
    "print(d.get('monkey','N/A'))\n",
    "print(d.get('fish', 'N/A'))\n",
    "del d['fish']\n",
    "print(d.get('fish', 'N/A'))"
   ]
  },
  {
   "cell_type": "code",
   "execution_count": 88,
   "id": "6fdfb646",
   "metadata": {},
   "outputs": [
    {
     "name": "stdout",
     "output_type": "stream",
     "text": [
      "A person has 2 legs\n",
      "A cat has 4 legs\n",
      "A spider has 8 legs\n"
     ]
    }
   ],
   "source": [
    "d = {'person':2, 'cat':4, 'spider':8}\n",
    "for animal in d:\n",
    "    number_of_legs = d[animal]\n",
    "    print(f'A {animal} has {number_of_legs} legs')"
   ]
  },
  {
   "cell_type": "code",
   "execution_count": 92,
   "id": "b0d8a504",
   "metadata": {},
   "outputs": [
    {
     "name": "stdout",
     "output_type": "stream",
     "text": [
      "{0: 0, 1: 1, 2: 4, 3: 9, 4: 16}\n"
     ]
    }
   ],
   "source": [
    "nums=[0,1,2,3,4]\n",
    "even_num_to_square = {x:x**2 for x in nums if x>=0}\n",
    "print(even_num_to_square)"
   ]
  },
  {
   "cell_type": "code",
   "execution_count": 99,
   "id": "a7c33f68",
   "metadata": {},
   "outputs": [
    {
     "name": "stdout",
     "output_type": "stream",
     "text": [
      "True\n",
      "False\n",
      "True\n",
      "3\n",
      "3\n",
      "2\n"
     ]
    }
   ],
   "source": [
    "animals = {'cat', 'dog'}\n",
    "print('cat' in animals)\n",
    "print('fish' in animals)\n",
    "animals.add('fish')\n",
    "print('fish' in animals)\n",
    "print(len(animals))\n",
    "animals.add('cat')\n",
    "print(len(animals))\n",
    "animals.remove('cat')\n",
    "print(len(animals))"
   ]
  },
  {
   "cell_type": "code",
   "execution_count": 103,
   "id": "683e5c52",
   "metadata": {},
   "outputs": [
    {
     "name": "stdout",
     "output_type": "stream",
     "text": [
      "0번째는 fish\n",
      "1번째는 dog\n",
      "2번째는 cat\n"
     ]
    }
   ],
   "source": [
    "animals = {'cat', 'dog', 'fish'}\n",
    "for idx, animal in enumerate(animals):\n",
    "    print(f\"{idx}번째는 {animal}\")"
   ]
  },
  {
   "cell_type": "code",
   "execution_count": 104,
   "id": "a513ab79",
   "metadata": {},
   "outputs": [
    {
     "name": "stdout",
     "output_type": "stream",
     "text": [
      "{0, 1, 2, 3, 4, 5}\n"
     ]
    }
   ],
   "source": [
    "from math import sqrt\n",
    "nums = {int(sqrt(x)) for x in range(30)}\n",
    "print(nums)"
   ]
  },
  {
   "cell_type": "code",
   "execution_count": 106,
   "id": "28195f26",
   "metadata": {},
   "outputs": [
    {
     "name": "stdout",
     "output_type": "stream",
     "text": [
      "<class 'tuple'>\n",
      "5\n",
      "1\n"
     ]
    }
   ],
   "source": [
    "d = {(x, x+1):x for x in range(10)}\n",
    "t = (5, 6)\n",
    "print(type(t))\n",
    "print(d[t])\n",
    "print(d[(1,2)])"
   ]
  },
  {
   "cell_type": "code",
   "execution_count": 107,
   "id": "773e6ba1",
   "metadata": {},
   "outputs": [
    {
     "name": "stdout",
     "output_type": "stream",
     "text": [
      "negative\n",
      "zero\n",
      "positive\n"
     ]
    }
   ],
   "source": [
    "def sign(x):\n",
    "    if x>0:\n",
    "        return 'positive'\n",
    "    elif x==0:\n",
    "        return 'zero'\n",
    "    else:\n",
    "        return 'negative'\n",
    "    \n",
    "for x in [-1, 0, 1]:\n",
    "    print(sign(x))"
   ]
  },
  {
   "cell_type": "code",
   "execution_count": 108,
   "id": "29d1dab0",
   "metadata": {},
   "outputs": [
    {
     "name": "stdout",
     "output_type": "stream",
     "text": [
      "hello, Bob\n",
      "HELLO, Fred!\n"
     ]
    }
   ],
   "source": [
    "def hello(name, test=False):\n",
    "    if test:\n",
    "        print(f\"HELLO, {name}!\")\n",
    "    else:\n",
    "        print(f\"hello, {name}\")\n",
    "        \n",
    "hello('Bob')\n",
    "hello('Fred', test=True)"
   ]
  },
  {
   "cell_type": "code",
   "execution_count": 122,
   "id": "1551f1df",
   "metadata": {},
   "outputs": [
    {
     "name": "stdout",
     "output_type": "stream",
     "text": [
      "Hello, Fred\n",
      "HELLO, FRED\n"
     ]
    }
   ],
   "source": [
    "class Greeter(object):\n",
    "    \n",
    "    def __init__(self, name):\n",
    "        self.name = name\n",
    "        \n",
    "    def greet(self, test=False):\n",
    "        if test:\n",
    "            print(f\"HELLO, {self.name.upper()}\")\n",
    "        else:\n",
    "            print(f\"Hello, {self.name}\")\n",
    "            \n",
    "g = Greeter('Fred')\n",
    "g.greet()\n",
    "g.greet(test=True)"
   ]
  },
  {
   "cell_type": "code",
   "execution_count": 123,
   "id": "56410383",
   "metadata": {},
   "outputs": [],
   "source": [
    "import numpy as np"
   ]
  },
  {
   "cell_type": "code",
   "execution_count": 130,
   "id": "f96ef888",
   "metadata": {},
   "outputs": [
    {
     "name": "stdout",
     "output_type": "stream",
     "text": [
      "<class 'numpy.ndarray'>\n",
      "(3,)\n",
      "1 2 3\n",
      "[5 2 3]\n",
      "(2, 3)\n",
      "1 2 4\n"
     ]
    }
   ],
   "source": [
    "a = np.array([1,2,3])\n",
    "print(type(a))\n",
    "print(a.shape)\n",
    "print(a[0], a[1], a[2])\n",
    "a[0] = 5\n",
    "print(a)\n",
    "\n",
    "b = np.array([[1,2,3], [4,5,6]])\n",
    "print(b.shape)\n",
    "print(b[0,0], b[0,1], b[1,0])"
   ]
  },
  {
   "cell_type": "code",
   "execution_count": 142,
   "id": "9e1d8c14",
   "metadata": {},
   "outputs": [
    {
     "name": "stdout",
     "output_type": "stream",
     "text": [
      "[[0. 0. 0.]\n",
      " [0. 0. 0.]\n",
      " [0. 0. 0.]]\n",
      "[[1. 1.]\n",
      " [1. 1.]\n",
      " [1. 1.]]\n",
      "[[32 32 32 32]\n",
      " [32 32 32 32]\n",
      " [32 32 32 32]\n",
      " [32 32 32 32]]\n",
      "[[1. 0. 0.]\n",
      " [0. 1. 0.]\n",
      " [0. 0. 1.]]\n",
      "[[0.09863012 0.42033478]\n",
      " [0.8859994  0.28620709]]\n"
     ]
    }
   ],
   "source": [
    "a = np.zeros((3,3))\n",
    "print(a)\n",
    "\n",
    "b = np.ones((3,2))\n",
    "print(b)\n",
    "\n",
    "c = np.full((4,4), 32)\n",
    "print(c)\n",
    "\n",
    "d = np.eye(3)\n",
    "print(d)\n",
    "\n",
    "e = np.random.random((2,2))\n",
    "print(e)"
   ]
  },
  {
   "cell_type": "code",
   "execution_count": 161,
   "id": "520c7ec0",
   "metadata": {},
   "outputs": [
    {
     "name": "stdout",
     "output_type": "stream",
     "text": [
      "[[ 1  2  3  4  5]\n",
      " [ 6  7  8  9 10]\n",
      " [11 12 13 14 15]\n",
      " [16 17 18 19 20]\n",
      " [21 22 23 24 25]]\n",
      "[[ 1  2  3]\n",
      " [ 6  7  8]\n",
      " [11 12 13]]\n",
      "---------------------\n",
      "[[ 1  2  3  4  5]\n",
      " [ 6  7  8  9 10]\n",
      " [11 12 13 14 15]]\n",
      "9\n",
      "---------------------\n",
      "77\n",
      "[[77  2  3]\n",
      " [ 6  7  8]\n",
      " [11 12 13]]\n"
     ]
    }
   ],
   "source": [
    "a = np.array([[1,2,3,4,5], [6,7,8,9,10], [11,12,13,14,15], [16,17,18,19,20], [21,22,23,24,25]])\n",
    "print(a)\n",
    "\n",
    "b=a[0:3, 0:3]\n",
    "print(b)\n",
    "\n",
    "print(\"---------------------\")\n",
    "print(a[0:3])\n",
    "print(a[1,3])\n",
    "print(\"---------------------\")\n",
    "b[0,0] = 77\n",
    "print(b[0,0])\n",
    "\n",
    "print(b)"
   ]
  },
  {
   "cell_type": "code",
   "execution_count": 168,
   "id": "3023108b",
   "metadata": {},
   "outputs": [
    {
     "name": "stdout",
     "output_type": "stream",
     "text": [
      "[1 2 3 4] (4,)\n",
      "[[1 2 3 4]] (4,)\n",
      "---------------------\n",
      "[[ 5  6  7  8]\n",
      " [ 9 10 11 12]] (2, 4)\n",
      "---------------------\n",
      "---------------------\n",
      "[ 2  6 10] (3,)\n",
      "[[ 2]\n",
      " [ 6]\n",
      " [10]] (3, 1)\n"
     ]
    }
   ],
   "source": [
    "a = np.array([[1,2,3,4], [5,6,7,8], [9,10,11,12]])\n",
    "\n",
    "row_r1=a[0, :]\n",
    "row_r2=a[1:3, :]\n",
    "row_r3=a[0:1, :]\n",
    "print(row_r1, row_r1.shape)\n",
    "print(row_r3, row_r1.shape)\n",
    "print(\"---------------------\")\n",
    "print(row_r2, row_r2.shape)\n",
    "print(\"---------------------\")\n",
    "print(\"---------------------\")\n",
    "col_c1=a[:, 1]\n",
    "col_c2=a[:, 1:2]\n",
    "print(col_c1, col_c1.shape)\n",
    "\n",
    "print(col_c2, col_c2.shape)"
   ]
  },
  {
   "cell_type": "code",
   "execution_count": 182,
   "id": "64802436",
   "metadata": {},
   "outputs": [
    {
     "name": "stdout",
     "output_type": "stream",
     "text": [
      "[[1 2]\n",
      " [3 4]\n",
      " [5 6]]\n",
      "---------------------\n",
      "[1 4 5]\n",
      "[2 4 6]\n",
      "---------------------\n",
      "[1 4 5]\n",
      "[2 4 6]\n",
      "---------------------\n",
      "[2 2]\n",
      "[2 4]\n",
      "---------------------\n",
      "[2 2]\n"
     ]
    }
   ],
   "source": [
    "a=np.array([[1,2],[3,4],[5,6]])\n",
    "print(a)\n",
    "print(\"---------------------\")\n",
    "print(a[[0,1,2], [0,1,0]])\n",
    "print(a[[0,1,2,], [1,1,1]])\n",
    "print(\"---------------------\")\n",
    "print(np.array([a[0,0], a[1,1], a[2,0]]))\n",
    "print(np.array([a[0,1], a[1,1], a[2,1]]))\n",
    "print(\"---------------------\")\n",
    "print(a[[0,0], [1,1]])\n",
    "print(a[[0,1], [1,1]])\n",
    "print(\"---------------------\")\n",
    "print(np.array([a[0,1], a[0,1]]))"
   ]
  },
  {
   "cell_type": "code",
   "execution_count": 189,
   "id": "78604194",
   "metadata": {},
   "outputs": [
    {
     "name": "stdout",
     "output_type": "stream",
     "text": [
      "[[ 1  2  3]\n",
      " [ 4  5  6]\n",
      " [ 7  8  9]\n",
      " [10 11 12]]\n",
      "---------------------\n",
      "[0 2 0 1]\n",
      "---------------------\n",
      "[ 1  6  7 11]\n",
      "---------------------\n",
      "[[101   2   3]\n",
      " [  4   5 106]\n",
      " [107   8   9]\n",
      " [ 10 111  12]]\n"
     ]
    }
   ],
   "source": [
    "a = np.array([[1,2,3], [4,5,6], [7,8,9], [10, 11, 12]])\n",
    "print(a)\n",
    "print(\"---------------------\")\n",
    "b = np.array([0, 2, 0, 1])\n",
    "print(b)\n",
    "print(\"---------------------\")\n",
    "print(a[np.arange(4), b])\n",
    "print(\"---------------------\")\n",
    "a[np.arange(4), b] += 100\n",
    "\n",
    "print(a)"
   ]
  },
  {
   "cell_type": "code",
   "execution_count": 197,
   "id": "141adb6a",
   "metadata": {},
   "outputs": [
    {
     "name": "stdout",
     "output_type": "stream",
     "text": [
      "[[ 1  2  3]\n",
      " [ 4  5  6]\n",
      " [ 7  8  9]\n",
      " [10 11 12]\n",
      " [13 14 15]]\n",
      "[0 1 2 0]\n",
      "[ 1  5  9 10]\n",
      "[[101   2   3]\n",
      " [  4 105   6]\n",
      " [  7   8 109]\n",
      " [110  11  12]\n",
      " [ 13  14  15]]\n"
     ]
    }
   ],
   "source": [
    "a = np.array([[1,2,3], [4,5,6], [7,8,9], [10, 11, 12], [13,14,15]])\n",
    "print(a)\n",
    "b = np.array([0,1,2,0])\n",
    "print(b)\n",
    "print(a[np.arange(b.size), b])\n",
    "a[np.arange(4), b] += 100\n",
    "print(a)"
   ]
  },
  {
   "cell_type": "code",
   "execution_count": 201,
   "id": "247c6221",
   "metadata": {},
   "outputs": [
    {
     "name": "stdout",
     "output_type": "stream",
     "text": [
      "[[False False]\n",
      " [ True  True]\n",
      " [ True  True]]\n",
      "---------------------\n",
      "[3 4 5 6]\n",
      "[1]\n"
     ]
    }
   ],
   "source": [
    "a = np.array([[1,2], [3,4], [5,6]])\n",
    "\n",
    "bool_idx = (a>2)\n",
    "print(bool_idx)\n",
    "print(\"---------------------\")\n",
    "print(a[bool_idx])\n",
    "print(a[a<2])"
   ]
  },
  {
   "cell_type": "code",
   "execution_count": 205,
   "id": "0bdb83e7",
   "metadata": {},
   "outputs": [
    {
     "name": "stdout",
     "output_type": "stream",
     "text": [
      "int32\n",
      "float64\n",
      "int64\n"
     ]
    }
   ],
   "source": [
    "x = np.array([1,2])\n",
    "print(x.dtype)\n",
    "\n",
    "x = np.array([1.0,2.0])\n",
    "print(x.dtype)\n",
    "\n",
    "x=np.array([1,2], dtype=np.int64)\n",
    "print(x.dtype)"
   ]
  },
  {
   "cell_type": "code",
   "execution_count": 209,
   "id": "23c006c5",
   "metadata": {},
   "outputs": [
    {
     "name": "stdout",
     "output_type": "stream",
     "text": [
      "[[ 6.  8.]\n",
      " [10. 12.]]\n",
      "[[ 6.  8.]\n",
      " [10. 12.]]\n",
      "[[-4. -4.]\n",
      " [-4. -4.]]\n",
      "[[-4. -4.]\n",
      " [-4. -4.]]\n",
      "[[ 5. 12.]\n",
      " [21. 32.]]\n",
      "[[ 5. 12.]\n",
      " [21. 32.]]\n",
      "[[0.2        0.33333333]\n",
      " [0.42857143 0.5       ]]\n",
      "[[0.2        0.33333333]\n",
      " [0.42857143 0.5       ]]\n",
      "[[1.         1.41421356]\n",
      " [1.73205081 2.        ]]\n"
     ]
    }
   ],
   "source": [
    "x=np.array([[1,2], [3,4]], dtype=np.float64)\n",
    "y=np.array([[5,6], [7,8]], dtype=np.float64)\n",
    "\n",
    "print(x + y)\n",
    "print(np.add(x,y))\n",
    "\n",
    "print(x-y)\n",
    "print(np.subtract(x,y))\n",
    "\n",
    "print(x*y)\n",
    "print(np.multiply(x,y))\n",
    "\n",
    "print(x/y)\n",
    "print(np.divide(x,y))\n",
    "\n",
    "print(np.sqrt(x))\n"
   ]
  },
  {
   "cell_type": "code",
   "execution_count": 213,
   "id": "4ff8e4df",
   "metadata": {},
   "outputs": [
    {
     "name": "stdout",
     "output_type": "stream",
     "text": [
      "219\n",
      "219\n",
      "[35 81]\n",
      "[29 67]\n",
      "[[19 22]\n",
      " [43 50]]\n",
      "[[19 22]\n",
      " [43 50]]\n"
     ]
    }
   ],
   "source": [
    "x=np.array([[1,2], [3,4]])\n",
    "y=np.array([[5,6], [7,8]])\n",
    "\n",
    "v = np.array([9,10])\n",
    "w = np.array([11,12])\n",
    "\n",
    "print(v.dot(w))\n",
    "print(np.dot(v,w))\n",
    "\n",
    "print(x.dot(w))\n",
    "print(np.dot(x,v))\n",
    "\n",
    "print(x.dot(y))\n",
    "print(np.dot(x,y))"
   ]
  },
  {
   "cell_type": "code",
   "execution_count": 216,
   "id": "a0af69dc",
   "metadata": {},
   "outputs": [
    {
     "name": "stdout",
     "output_type": "stream",
     "text": [
      "10\n",
      "[4 6]\n",
      "[3 7]\n"
     ]
    }
   ],
   "source": [
    "x=np.array([[1,2], [3,4]])\n",
    "\n",
    "print(np.sum(x))\n",
    "print(np.sum(x, axis=0))\n",
    "print(np.sum(x, axis=1))"
   ]
  },
  {
   "cell_type": "code",
   "execution_count": 220,
   "id": "ffe49079",
   "metadata": {},
   "outputs": [
    {
     "name": "stdout",
     "output_type": "stream",
     "text": [
      "[[1 2]\n",
      " [3 4]]\n",
      "[[1 3]\n",
      " [2 4]]\n",
      "[[1 2 3]\n",
      " [4 5 6]]\n",
      "[[1 4]\n",
      " [2 5]\n",
      " [3 6]]\n"
     ]
    }
   ],
   "source": [
    "x=np.array([[1,2], [3,4]])\n",
    "\n",
    "x1 = x\n",
    "print(x1)\n",
    "x1=x1.T\n",
    "print(x1)\n",
    "\n",
    "v = np.array([[1,2,3], [4,5,6]])\n",
    "print(v)\n",
    "v = v.T\n",
    "print(v)"
   ]
  },
  {
   "cell_type": "code",
   "execution_count": null,
   "id": "f64ff790",
   "metadata": {},
   "outputs": [],
   "source": []
  }
 ],
 "metadata": {
  "kernelspec": {
   "display_name": "Python 3 (ipykernel)",
   "language": "python",
   "name": "python3"
  },
  "language_info": {
   "codemirror_mode": {
    "name": "ipython",
    "version": 3
   },
   "file_extension": ".py",
   "mimetype": "text/x-python",
   "name": "python",
   "nbconvert_exporter": "python",
   "pygments_lexer": "ipython3",
   "version": "3.9.12"
  }
 },
 "nbformat": 4,
 "nbformat_minor": 5
}
