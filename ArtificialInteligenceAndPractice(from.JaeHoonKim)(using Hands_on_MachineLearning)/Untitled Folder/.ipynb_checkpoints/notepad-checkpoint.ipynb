{
 "cells": [
  {
   "cell_type": "code",
   "execution_count": 3,
   "id": "9a691e48",
   "metadata": {},
   "outputs": [],
   "source": [
    "import sys\n",
    "import sklearn\n",
    "import numpy as np\n",
    "import os\n",
    "import pandas as pd\n",
    "\n",
    "from mlxtend.data import loadlocal_mnist\n",
    "from sklearn.svm import LinearSVC, SVC\n",
    "from sklearn.svm import LinearSVR, SVR\n",
    "from sklearn import datasets\n",
    "from sklearn.pipeline import Pipeline\n",
    "from sklearn.preprocessing import StandardScaler, MinMaxScaler\n",
    "from sklearn.preprocessing import PolynomialFeatures\n",
    "from sklearn.datasets import make_moons\n",
    "from sklearn.metrics import precision_score, recall_score, f1_score\n",
    "\n",
    "#######\n",
    "from sklearn.model_selection import GridSearchCV\n",
    "from sklearn.ensemble import RandomForestRegressor\n",
    "import numpy as np\n",
    "from sklearn.model_selection import train_test_split\n",
    "from sklearn import datasets\n",
    "from sklearn import svm\n",
    "#######\n",
    "import warnings\n",
    "warnings.filterwarnings(\"ignore\")"
   ]
  },
  {
   "cell_type": "code",
   "execution_count": 81,
   "id": "162ffd0c",
   "metadata": {},
   "outputs": [],
   "source": [
    "from sklearn.preprocessing import Binarizer\n",
    "from pandas import DataFrame"
   ]
  },
  {
   "cell_type": "code",
   "execution_count": 4,
   "id": "a8d7bde5",
   "metadata": {},
   "outputs": [],
   "source": [
    "PROJECT_ROOT_DIR = \".\"\n",
    "MNIST_PATH = PROJECT_ROOT_DIR + \"/datasets/mnist/\""
   ]
  },
  {
   "cell_type": "code",
   "execution_count": 89,
   "id": "1a55a53d",
   "metadata": {},
   "outputs": [],
   "source": [
    "def binarizer(file_name, threshold_num):\n",
    "    root_dir = '.'\n",
    "    \n",
    "    path = root_dir + file_name\n",
    "    data = pd.read_csv(path)\n",
    "#     display(data)\n",
    "    X = data.iloc[:, :3]\n",
    "    y = data.iloc[:, 3:4]\n",
    "#     display(X); display(y);\n",
    "    binarizer = Binarizer(threshold = threshold_num)\n",
    "    X = binarizer.fit_transform(X)\n",
    "    X = DataFrame(X)\n",
    "    data = pd.concat([X, y], axis=1)\n",
    "#     display(data)\n",
    "    return data"
   ]
  },
  {
   "cell_type": "code",
   "execution_count": 90,
   "id": "f00936bd",
   "metadata": {},
   "outputs": [],
   "source": [
    "def make_training_data(file_name):\n",
    "    root_dir ='.'\n",
    "    path = root_dir + file_name\n",
    "    data = pd.read_csv(path)\n",
    "    X = data.iloc[:, :3]\n",
    "    y = data.iloc[:, 3:4]\n",
    "    return X, y"
   ]
  },
  {
   "cell_type": "code",
   "execution_count": 88,
   "id": "c14b223e",
   "metadata": {},
   "outputs": [
    {
     "data": {
      "text/html": [
       "<div>\n",
       "<style scoped>\n",
       "    .dataframe tbody tr th:only-of-type {\n",
       "        vertical-align: middle;\n",
       "    }\n",
       "\n",
       "    .dataframe tbody tr th {\n",
       "        vertical-align: top;\n",
       "    }\n",
       "\n",
       "    .dataframe thead th {\n",
       "        text-align: right;\n",
       "    }\n",
       "</style>\n",
       "<table border=\"1\" class=\"dataframe\">\n",
       "  <thead>\n",
       "    <tr style=\"text-align: right;\">\n",
       "      <th></th>\n",
       "      <th>0</th>\n",
       "      <th>1</th>\n",
       "      <th>2</th>\n",
       "      <th>Y</th>\n",
       "    </tr>\n",
       "  </thead>\n",
       "  <tbody>\n",
       "    <tr>\n",
       "      <th>0</th>\n",
       "      <td>0.0</td>\n",
       "      <td>1.0</td>\n",
       "      <td>0.0</td>\n",
       "      <td>N</td>\n",
       "    </tr>\n",
       "    <tr>\n",
       "      <th>1</th>\n",
       "      <td>1.0</td>\n",
       "      <td>0.0</td>\n",
       "      <td>0.0</td>\n",
       "      <td>Y</td>\n",
       "    </tr>\n",
       "    <tr>\n",
       "      <th>2</th>\n",
       "      <td>1.0</td>\n",
       "      <td>0.0</td>\n",
       "      <td>1.0</td>\n",
       "      <td>N</td>\n",
       "    </tr>\n",
       "  </tbody>\n",
       "</table>\n",
       "</div>"
      ],
      "text/plain": [
       "     0    1    2   Y\n",
       "0  0.0  1.0  0.0   N\n",
       "1  1.0  0.0  0.0   Y\n",
       "2  1.0  0.0  1.0   N"
      ]
     },
     "metadata": {},
     "output_type": "display_data"
    }
   ],
   "source": [
    "if __name__ == '__main__':\n",
    "    file_name = '/data.txt'\n",
    "    threshold_num=2.1\n",
    "    \n",
    "    data = binarizer(file_name, threshold_num)\n",
    "    display(data)\n",
    "    "
   ]
  },
  {
   "cell_type": "code",
   "execution_count": 16,
   "id": "1bdf1d0d",
   "metadata": {},
   "outputs": [
    {
     "name": "stdout",
     "output_type": "stream",
     "text": [
      "Binarizer(threshold=2.1)\n"
     ]
    }
   ],
   "source": [
    "    "
   ]
  }
 ],
 "metadata": {
  "kernelspec": {
   "display_name": "Python 3 (ipykernel)",
   "language": "python",
   "name": "python3"
  },
  "language_info": {
   "codemirror_mode": {
    "name": "ipython",
    "version": 3
   },
   "file_extension": ".py",
   "mimetype": "text/x-python",
   "name": "python",
   "nbconvert_exporter": "python",
   "pygments_lexer": "ipython3",
   "version": "3.9.12"
  }
 },
 "nbformat": 4,
 "nbformat_minor": 5
}
